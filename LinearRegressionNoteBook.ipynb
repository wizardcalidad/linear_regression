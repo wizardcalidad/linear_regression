{
  "nbformat": 4,
  "nbformat_minor": 0,
  "metadata": {
    "colab": {
      "name": "LinearRegressionNoteBook.ipynb",
      "provenance": [],
      "collapsed_sections": [],
      "mount_file_id": "13d8QL287lhr4ciTCezTlgiC7IXkuCEKc",
      "authorship_tag": "ABX9TyMTlt02fLl0ppKVtok5Saq6",
      "include_colab_link": true
    },
    "kernelspec": {
      "name": "python3",
      "display_name": "Python 3"
    },
    "language_info": {
      "name": "python"
    }
  },
  "cells": [
    {
      "cell_type": "markdown",
      "metadata": {
        "id": "view-in-github",
        "colab_type": "text"
      },
      "source": [
        "<a href=\"https://colab.research.google.com/github/wizardcalidad/linear_regression/blob/main/LinearRegressionNoteBook.ipynb\" target=\"_parent\"><img src=\"https://colab.research.google.com/assets/colab-badge.svg\" alt=\"Open In Colab\"/></a>"
      ]
    },
    {
      "cell_type": "markdown",
      "metadata": {
        "id": "XQ4tcOJ4vrJS"
      },
      "source": [
        "# LINEAR REGRESSION NOTEBOOKS"
      ]
    },
    {
      "cell_type": "markdown",
      "metadata": {
        "id": "FXQLhHIA7gvz"
      },
      "source": [
        "### Prepared By: Qoyum Olatunde Yusuf"
      ]
    },
    {
      "cell_type": "markdown",
      "metadata": {
        "id": "OTN-7UdAvxwo"
      },
      "source": [
        "## Importing Necessary Libraries"
      ]
    },
    {
      "cell_type": "code",
      "metadata": {
        "id": "zd7uq_7xmhZa"
      },
      "source": [
        "% matplotlib inline\n",
        "import numpy as np\n",
        "import pandas as pd\n",
        "import matplotlib.pyplot as plt\n",
        "\n",
        "from sklearn.linear_model import LinearRegression\n",
        "\n",
        "import statsmodels.formula.api as smf\n",
        "import seaborn as sns\n",
        "sns.set()\n",
        "\n",
        "import warnings\n",
        "warnings.filterwarnings( \"ignore\" )"
      ],
      "execution_count": 33,
      "outputs": []
    },
    {
      "cell_type": "markdown",
      "metadata": {
        "id": "r9QA8L5WwMHw"
      },
      "source": [
        "## Loading The Dataset"
      ]
    },
    {
      "cell_type": "markdown",
      "metadata": {
        "id": "701N5GlMwW5t"
      },
      "source": [
        "The Problem statement:\n",
        "\n",
        "This data is about the amount spent on advertising through different channels like TV, Radio and Newspaper.\n",
        "The goal is to predict how the expense on each channel affects the sales and is there a way to optimise that\n",
        "sale?"
      ]
    },
    {
      "cell_type": "code",
      "metadata": {
        "id": "3hkHyFIPmv0I"
      },
      "source": [
        "df = pd.read_csv('/content/drive/MyDrive/Advertising.csv')"
      ],
      "execution_count": 2,
      "outputs": []
    },
    {
      "cell_type": "code",
      "metadata": {
        "colab": {
          "base_uri": "https://localhost:8080/",
          "height": 204
        },
        "id": "TSoOdOYenqDB",
        "outputId": "50fe9cba-62b3-440f-f53a-c28c6b0c3d1d"
      },
      "source": [
        "df.head()"
      ],
      "execution_count": 3,
      "outputs": [
        {
          "output_type": "execute_result",
          "data": {
            "text/html": [
              "<div>\n",
              "<style scoped>\n",
              "    .dataframe tbody tr th:only-of-type {\n",
              "        vertical-align: middle;\n",
              "    }\n",
              "\n",
              "    .dataframe tbody tr th {\n",
              "        vertical-align: top;\n",
              "    }\n",
              "\n",
              "    .dataframe thead th {\n",
              "        text-align: right;\n",
              "    }\n",
              "</style>\n",
              "<table border=\"1\" class=\"dataframe\">\n",
              "  <thead>\n",
              "    <tr style=\"text-align: right;\">\n",
              "      <th></th>\n",
              "      <th>Unnamed: 0</th>\n",
              "      <th>TV</th>\n",
              "      <th>radio</th>\n",
              "      <th>newspaper</th>\n",
              "      <th>sales</th>\n",
              "    </tr>\n",
              "  </thead>\n",
              "  <tbody>\n",
              "    <tr>\n",
              "      <th>0</th>\n",
              "      <td>1</td>\n",
              "      <td>230.1</td>\n",
              "      <td>37.8</td>\n",
              "      <td>69.2</td>\n",
              "      <td>22.1</td>\n",
              "    </tr>\n",
              "    <tr>\n",
              "      <th>1</th>\n",
              "      <td>2</td>\n",
              "      <td>44.5</td>\n",
              "      <td>39.3</td>\n",
              "      <td>45.1</td>\n",
              "      <td>10.4</td>\n",
              "    </tr>\n",
              "    <tr>\n",
              "      <th>2</th>\n",
              "      <td>3</td>\n",
              "      <td>17.2</td>\n",
              "      <td>45.9</td>\n",
              "      <td>69.3</td>\n",
              "      <td>9.3</td>\n",
              "    </tr>\n",
              "    <tr>\n",
              "      <th>3</th>\n",
              "      <td>4</td>\n",
              "      <td>151.5</td>\n",
              "      <td>41.3</td>\n",
              "      <td>58.5</td>\n",
              "      <td>18.5</td>\n",
              "    </tr>\n",
              "    <tr>\n",
              "      <th>4</th>\n",
              "      <td>5</td>\n",
              "      <td>180.8</td>\n",
              "      <td>10.8</td>\n",
              "      <td>58.4</td>\n",
              "      <td>12.9</td>\n",
              "    </tr>\n",
              "  </tbody>\n",
              "</table>\n",
              "</div>"
            ],
            "text/plain": [
              "   Unnamed: 0     TV  radio  newspaper  sales\n",
              "0           1  230.1   37.8       69.2   22.1\n",
              "1           2   44.5   39.3       45.1   10.4\n",
              "2           3   17.2   45.9       69.3    9.3\n",
              "3           4  151.5   41.3       58.5   18.5\n",
              "4           5  180.8   10.8       58.4   12.9"
            ]
          },
          "metadata": {
            "tags": []
          },
          "execution_count": 3
        }
      ]
    },
    {
      "cell_type": "code",
      "metadata": {
        "colab": {
          "base_uri": "https://localhost:8080/"
        },
        "id": "3zLQj4jMny95",
        "outputId": "e14cd399-2ae9-42c8-f574-621847bdc6fc"
      },
      "source": [
        "df['sales'].shape"
      ],
      "execution_count": 4,
      "outputs": [
        {
          "output_type": "execute_result",
          "data": {
            "text/plain": [
              "(200,)"
            ]
          },
          "metadata": {
            "tags": []
          },
          "execution_count": 4
        }
      ]
    },
    {
      "cell_type": "code",
      "metadata": {
        "colab": {
          "base_uri": "https://localhost:8080/"
        },
        "id": "KlDAdKU9n1y3",
        "outputId": "ce5f6fa1-fb17-49a0-a385-cca9a4f6aea8"
      },
      "source": [
        "df.shape"
      ],
      "execution_count": 5,
      "outputs": [
        {
          "output_type": "execute_result",
          "data": {
            "text/plain": [
              "(200, 5)"
            ]
          },
          "metadata": {
            "tags": []
          },
          "execution_count": 5
        }
      ]
    },
    {
      "cell_type": "code",
      "metadata": {
        "colab": {
          "base_uri": "https://localhost:8080/"
        },
        "id": "6IoylEG0n5Rc",
        "outputId": "cc4eab1d-02f7-4ef6-ae34-a203f4663d59"
      },
      "source": [
        "df.info()"
      ],
      "execution_count": 6,
      "outputs": [
        {
          "output_type": "stream",
          "text": [
            "<class 'pandas.core.frame.DataFrame'>\n",
            "RangeIndex: 200 entries, 0 to 199\n",
            "Data columns (total 5 columns):\n",
            " #   Column      Non-Null Count  Dtype  \n",
            "---  ------      --------------  -----  \n",
            " 0   Unnamed: 0  200 non-null    int64  \n",
            " 1   TV          200 non-null    float64\n",
            " 2   radio       200 non-null    float64\n",
            " 3   newspaper   200 non-null    float64\n",
            " 4   sales       200 non-null    float64\n",
            "dtypes: float64(4), int64(1)\n",
            "memory usage: 7.9 KB\n"
          ],
          "name": "stdout"
        }
      ]
    },
    {
      "cell_type": "markdown",
      "metadata": {
        "id": "PBfqhJRAxEDI"
      },
      "source": [
        "## Checking for mising datas"
      ]
    },
    {
      "cell_type": "code",
      "metadata": {
        "colab": {
          "base_uri": "https://localhost:8080/"
        },
        "id": "orGlkygfn7L4",
        "outputId": "15445cbd-96c6-411b-e2d8-fb77f39d6de6"
      },
      "source": [
        "df.isna().sum()"
      ],
      "execution_count": 7,
      "outputs": [
        {
          "output_type": "execute_result",
          "data": {
            "text/plain": [
              "Unnamed: 0    0\n",
              "TV            0\n",
              "radio         0\n",
              "newspaper     0\n",
              "sales         0\n",
              "dtype: int64"
            ]
          },
          "metadata": {
            "tags": []
          },
          "execution_count": 7
        }
      ]
    },
    {
      "cell_type": "markdown",
      "metadata": {
        "id": "LovW5ztaxJ8B"
      },
      "source": [
        "## Let's try to show the relationship between Sales and the features"
      ]
    },
    {
      "cell_type": "code",
      "metadata": {
        "colab": {
          "base_uri": "https://localhost:8080/",
          "height": 430
        },
        "id": "aRa7_KgOn96n",
        "outputId": "84ea8363-6444-4a5d-b713-83faf64fdeb2"
      },
      "source": [
        "fig, axs = plt.subplots(1,3, sharey=True)\n",
        "\n",
        "df.plot(kind='scatter', x='TV', y='sales', ax=axs[0], figsize=(16,8))\n",
        "df.plot(kind='scatter', x='radio', y='sales', ax=axs[1])\n",
        "df.plot(kind='scatter', x='newspaper', y='sales', ax=axs[2])"
      ],
      "execution_count": 8,
      "outputs": [
        {
          "output_type": "stream",
          "text": [
            "*c* argument looks like a single numeric RGB or RGBA sequence, which should be avoided as value-mapping will have precedence in case its length matches with *x* & *y*.  Please use the *color* keyword-argument or provide a 2-D array with a single row if you intend to specify the same RGB or RGBA value for all points.\n",
            "*c* argument looks like a single numeric RGB or RGBA sequence, which should be avoided as value-mapping will have precedence in case its length matches with *x* & *y*.  Please use the *color* keyword-argument or provide a 2-D array with a single row if you intend to specify the same RGB or RGBA value for all points.\n",
            "*c* argument looks like a single numeric RGB or RGBA sequence, which should be avoided as value-mapping will have precedence in case its length matches with *x* & *y*.  Please use the *color* keyword-argument or provide a 2-D array with a single row if you intend to specify the same RGB or RGBA value for all points.\n"
          ],
          "name": "stderr"
        },
        {
          "output_type": "execute_result",
          "data": {
            "text/plain": [
              "<matplotlib.axes._subplots.AxesSubplot at 0x7f395c93a110>"
            ]
          },
          "metadata": {
            "tags": []
          },
          "execution_count": 8
        },
        {
          "output_type": "display_data",
          "data": {
            "image/png": "[encoded data removed]",
            "text/plain": [
              "<Figure size 1152x576 with 3 Axes>"
            ]
          },
          "metadata": {
            "tags": [],
            "needs_background": "light"
          }
        }
      ]
    },
    {
      "cell_type": "markdown",
      "metadata": {
        "id": "bU3I-VOnoNK2"
      },
      "source": [
        "R-squared is used to check how fit our data is in the model, however, it represents the explainabilty of the data to the model. How much is the data being explained to the model.\n",
        "\n",
        "It increases with increase in number of features or independent variables. To avoid this problem, adjusted R-sqaured will be used instead because it penalizes excessive use of such features which do not correlate with the output data."
      ]
    },
    {
      "cell_type": "markdown",
      "metadata": {
        "id": "_ajVq2HtznUq"
      },
      "source": [
        "## SImple Linear Regression"
      ]
    },
    {
      "cell_type": "markdown",
      "metadata": {
        "id": "W6E1-MWvztxN"
      },
      "source": [
        "In demonstrating simple linear regression, let's see how well TV ads can predict the sales."
      ]
    },
    {
      "cell_type": "code",
      "metadata": {
        "id": "or1c7Wj7oB8b"
      },
      "source": [
        "tv = ['TV']"
      ],
      "execution_count": 9,
      "outputs": []
    },
    {
      "cell_type": "code",
      "metadata": {
        "id": "ouePFeUB7RlE"
      },
      "source": [
        "X = df[tv]\n",
        "y = df.sales"
      ],
      "execution_count": 10,
      "outputs": []
    },
    {
      "cell_type": "code",
      "metadata": {
        "id": "q_SDAevioYxD"
      },
      "source": [
        "lm = LinearRegression()"
      ],
      "execution_count": 11,
      "outputs": []
    },
    {
      "cell_type": "code",
      "metadata": {
        "colab": {
          "base_uri": "https://localhost:8080/"
        },
        "id": "gECzemwcoazI",
        "outputId": "1b14c262-f132-4039-f982-3e9453cc7c44"
      },
      "source": [
        "lm.fit(X,y)"
      ],
      "execution_count": 12,
      "outputs": [
        {
          "output_type": "execute_result",
          "data": {
            "text/plain": [
              "LinearRegression(copy_X=True, fit_intercept=True, n_jobs=None, normalize=False)"
            ]
          },
          "metadata": {
            "tags": []
          },
          "execution_count": 12
        }
      ]
    },
    {
      "cell_type": "markdown",
      "metadata": {
        "id": "fOX3oJCXpAc8"
      },
      "source": [
        "## printing intercept and coefficients"
      ]
    },
    {
      "cell_type": "markdown",
      "metadata": {
        "id": "CN_FPr-4zLMy"
      },
      "source": [
        "Intercept is the average value of the response variable or target if all the preedictors value are set to zero.\n",
        "\n",
        "coeficient is the ratio of increase of the target with respect to the selected feature(s)."
      ]
    },
    {
      "cell_type": "code",
      "metadata": {
        "colab": {
          "base_uri": "https://localhost:8080/"
        },
        "id": "5S83efOFo1Mw",
        "outputId": "c6447c68-b313-462c-a384-c18f3f609d49"
      },
      "source": [
        "print(lm.intercept_)\n",
        "print(lm.coef_)"
      ],
      "execution_count": 13,
      "outputs": [
        {
          "output_type": "stream",
          "text": [
            "7.032593549127695\n",
            "[0.04753664]\n"
          ],
          "name": "stdout"
        }
      ]
    },
    {
      "cell_type": "markdown",
      "metadata": {
        "id": "YU734VxT0F6f"
      },
      "source": [
        "We can say a unit increase in TV ads will give rise to 0.0475 unit increase in Sales.\n",
        "\n",
        "then, if 100 dollars is spent on TV ads, the increase in sales will be\n",
        "\n",
        "**100 x 0.0475 = 4.75** increase in sales"
      ]
    },
    {
      "cell_type": "markdown",
      "metadata": {
        "id": "71PGygNfpHec"
      },
      "source": [
        "## prediction using the model"
      ]
    },
    {
      "cell_type": "markdown",
      "metadata": {
        "id": "71GxYwhR1b2h"
      },
      "source": [
        "If the expense on TV ad is $50000, what will be the sales prediction for that market?"
      ]
    },
    {
      "cell_type": "code",
      "metadata": {
        "id": "hfz2GnDTpCtz"
      },
      "source": [
        "X_new = pd.DataFrame({'TV':[50]})"
      ],
      "execution_count": 14,
      "outputs": []
    },
    {
      "cell_type": "code",
      "metadata": {
        "colab": {
          "base_uri": "https://localhost:8080/",
          "height": 80
        },
        "id": "o3lXbbHspFXM",
        "outputId": "8b37397b-3e9b-43d9-a661-1cf405e999fc"
      },
      "source": [
        "X_new"
      ],
      "execution_count": 15,
      "outputs": [
        {
          "output_type": "execute_result",
          "data": {
            "text/html": [
              "<div>\n",
              "<style scoped>\n",
              "    .dataframe tbody tr th:only-of-type {\n",
              "        vertical-align: middle;\n",
              "    }\n",
              "\n",
              "    .dataframe tbody tr th {\n",
              "        vertical-align: top;\n",
              "    }\n",
              "\n",
              "    .dataframe thead th {\n",
              "        text-align: right;\n",
              "    }\n",
              "</style>\n",
              "<table border=\"1\" class=\"dataframe\">\n",
              "  <thead>\n",
              "    <tr style=\"text-align: right;\">\n",
              "      <th></th>\n",
              "      <th>TV</th>\n",
              "    </tr>\n",
              "  </thead>\n",
              "  <tbody>\n",
              "    <tr>\n",
              "      <th>0</th>\n",
              "      <td>50</td>\n",
              "    </tr>\n",
              "  </tbody>\n",
              "</table>\n",
              "</div>"
            ],
            "text/plain": [
              "   TV\n",
              "0  50"
            ]
          },
          "metadata": {
            "tags": []
          },
          "execution_count": 15
        }
      ]
    },
    {
      "cell_type": "code",
      "metadata": {
        "colab": {
          "base_uri": "https://localhost:8080/"
        },
        "id": "p5E2vzREpOoe",
        "outputId": "32f435d9-69ae-45fd-d202-8315ab2d03d5"
      },
      "source": [
        "lm.predict(X_new)"
      ],
      "execution_count": 16,
      "outputs": [
        {
          "output_type": "execute_result",
          "data": {
            "text/plain": [
              "array([9.40942557])"
            ]
          },
          "metadata": {
            "tags": []
          },
          "execution_count": 16
        }
      ]
    },
    {
      "cell_type": "markdown",
      "metadata": {
        "id": "kMT5LLcK2DEI"
      },
      "source": [
        "result to the sales of 9,409 widgets in the market."
      ]
    },
    {
      "cell_type": "markdown",
      "metadata": {
        "id": "DwHRVgdnpYzm"
      },
      "source": [
        "## plotting least squares line"
      ]
    },
    {
      "cell_type": "markdown",
      "metadata": {
        "id": "_agcfgTe21iG"
      },
      "source": [
        "the line of best for our model "
      ]
    },
    {
      "cell_type": "code",
      "metadata": {
        "id": "WYeqEATVpRIG"
      },
      "source": [
        "X_new = pd.DataFrame({'TV':[df.TV.min(), df.TV.max()]})"
      ],
      "execution_count": 17,
      "outputs": []
    },
    {
      "cell_type": "code",
      "metadata": {
        "colab": {
          "base_uri": "https://localhost:8080/",
          "height": 111
        },
        "id": "IMnI-vzmpc1w",
        "outputId": "7d612cb3-5314-460f-a506-4912299578e7"
      },
      "source": [
        "X_new"
      ],
      "execution_count": 18,
      "outputs": [
        {
          "output_type": "execute_result",
          "data": {
            "text/html": [
              "<div>\n",
              "<style scoped>\n",
              "    .dataframe tbody tr th:only-of-type {\n",
              "        vertical-align: middle;\n",
              "    }\n",
              "\n",
              "    .dataframe tbody tr th {\n",
              "        vertical-align: top;\n",
              "    }\n",
              "\n",
              "    .dataframe thead th {\n",
              "        text-align: right;\n",
              "    }\n",
              "</style>\n",
              "<table border=\"1\" class=\"dataframe\">\n",
              "  <thead>\n",
              "    <tr style=\"text-align: right;\">\n",
              "      <th></th>\n",
              "      <th>TV</th>\n",
              "    </tr>\n",
              "  </thead>\n",
              "  <tbody>\n",
              "    <tr>\n",
              "      <th>0</th>\n",
              "      <td>0.7</td>\n",
              "    </tr>\n",
              "    <tr>\n",
              "      <th>1</th>\n",
              "      <td>296.4</td>\n",
              "    </tr>\n",
              "  </tbody>\n",
              "</table>\n",
              "</div>"
            ],
            "text/plain": [
              "      TV\n",
              "0    0.7\n",
              "1  296.4"
            ]
          },
          "metadata": {
            "tags": []
          },
          "execution_count": 18
        }
      ]
    },
    {
      "cell_type": "code",
      "metadata": {
        "colab": {
          "base_uri": "https://localhost:8080/"
        },
        "id": "lao7Jb6Api5g",
        "outputId": "2e0c782e-3b20-421d-cf90-2e219b95f34d"
      },
      "source": [
        "preds = lm.predict(X_new)\n",
        "preds"
      ],
      "execution_count": 19,
      "outputs": [
        {
          "output_type": "execute_result",
          "data": {
            "text/plain": [
              "array([ 7.0658692 , 21.12245377])"
            ]
          },
          "metadata": {
            "tags": []
          },
          "execution_count": 19
        }
      ]
    },
    {
      "cell_type": "markdown",
      "metadata": {
        "id": "4DAs8OeopmG1"
      },
      "source": [
        "plotting the observed data and plot the least square line"
      ]
    },
    {
      "cell_type": "code",
      "metadata": {
        "colab": {
          "base_uri": "https://localhost:8080/",
          "height": 339
        },
        "id": "GO8qVCr_pjzl",
        "outputId": "9249d7b9-5c70-428e-fe12-554454e18992"
      },
      "source": [
        "df.plot(kind='scatter', x='TV', y='sales')\n",
        "plt.plot(X_new, preds, c='red', linewidth=1)"
      ],
      "execution_count": 20,
      "outputs": [
        {
          "output_type": "stream",
          "text": [
            "*c* argument looks like a single numeric RGB or RGBA sequence, which should be avoided as value-mapping will have precedence in case its length matches with *x* & *y*.  Please use the *color* keyword-argument or provide a 2-D array with a single row if you intend to specify the same RGB or RGBA value for all points.\n"
          ],
          "name": "stderr"
        },
        {
          "output_type": "execute_result",
          "data": {
            "text/plain": [
              "[<matplotlib.lines.Line2D at 0x7f395c7ffa90>]"
            ]
          },
          "metadata": {
            "tags": []
          },
          "execution_count": 20
        },
        {
          "output_type": "display_data",
          "data": {
            "image/png": "[encoded data removed]",
            "text/plain": [
              "<Figure size 432x288 with 1 Axes>"
            ]
          },
          "metadata": {
            "tags": [],
            "needs_background": "light"
          }
        }
      ]
    },
    {
      "cell_type": "code",
      "metadata": {
        "colab": {
          "base_uri": "https://localhost:8080/",
          "height": 111
        },
        "id": "A92ftMKppqGN",
        "outputId": "c5ab9928-fa28-424c-b0f6-da7412d68fd3"
      },
      "source": [
        "lm = smf.ols(formula='sales ~ TV', data=df).fit()\n",
        "lm.conf_int()"
      ],
      "execution_count": 21,
      "outputs": [
        {
          "output_type": "execute_result",
          "data": {
            "text/html": [
              "<div>\n",
              "<style scoped>\n",
              "    .dataframe tbody tr th:only-of-type {\n",
              "        vertical-align: middle;\n",
              "    }\n",
              "\n",
              "    .dataframe tbody tr th {\n",
              "        vertical-align: top;\n",
              "    }\n",
              "\n",
              "    .dataframe thead th {\n",
              "        text-align: right;\n",
              "    }\n",
              "</style>\n",
              "<table border=\"1\" class=\"dataframe\">\n",
              "  <thead>\n",
              "    <tr style=\"text-align: right;\">\n",
              "      <th></th>\n",
              "      <th>0</th>\n",
              "      <th>1</th>\n",
              "    </tr>\n",
              "  </thead>\n",
              "  <tbody>\n",
              "    <tr>\n",
              "      <th>Intercept</th>\n",
              "      <td>6.129719</td>\n",
              "      <td>7.935468</td>\n",
              "    </tr>\n",
              "    <tr>\n",
              "      <th>TV</th>\n",
              "      <td>0.042231</td>\n",
              "      <td>0.052843</td>\n",
              "    </tr>\n",
              "  </tbody>\n",
              "</table>\n",
              "</div>"
            ],
            "text/plain": [
              "                  0         1\n",
              "Intercept  6.129719  7.935468\n",
              "TV         0.042231  0.052843"
            ]
          },
          "metadata": {
            "tags": []
          },
          "execution_count": 21
        }
      ]
    },
    {
      "cell_type": "markdown",
      "metadata": {
        "id": "jFjib4cE3meY"
      },
      "source": [
        "## Model Confidence\n",
        "\n",
        "Linear Regression is a High bias/low variance model. Even after repeated sampling, the best fit line will stay roughly in\n",
        "the same position (low variance), but the average of the models created after repeated sampling won't do a\n",
        "great job in capturing the perfect relationship (high bias). Low variance is helpful when we don't have less\n",
        "training data!\n",
        "If the model has calculated a 95% confidence for our model coefficients, it can be interpreted as follows: If the\n",
        "population from which this sample is drawn, is sampled 100 times, then approximately 95 (out of 100) of\n",
        "those confidence intervals shall contain the \"true\" coefficients."
      ]
    },
    {
      "cell_type": "markdown",
      "metadata": {
        "id": "Ydx2AeZC56fB"
      },
      "source": [
        "## Hypothesis Testing and p-values"
      ]
    },
    {
      "cell_type": "markdown",
      "metadata": {
        "id": "2dkK0sTJ6Dhh"
      },
      "source": [
        "The conventional hypothesis test is as follows:\n",
        "\n",
        "Null hypothesis: No relationship exists between TV advertisements and Sales (and hence 𝛽 1\n",
        "equals\n",
        "zero).\n",
        "\n",
        "Alternative hypothesis: There exists a relationship between TV advertisements and Sales (and hence, 𝛽 1\n",
        "is not equal to zero).\n",
        "\n",
        "How do we test this? We reject the null hypothesis (and thus believe the alternative hypothesis) if the 95%\n",
        "confidence interval does not include zero. The p-value represents the probability of the coefficient actually\n",
        "being zero.\n"
      ]
    },
    {
      "cell_type": "code",
      "metadata": {
        "colab": {
          "base_uri": "https://localhost:8080/"
        },
        "id": "YeKqxSA055S7",
        "outputId": "530824a7-e9ff-4104-aacd-e944ff2609ea"
      },
      "source": [
        "lm.pvalues"
      ],
      "execution_count": 22,
      "outputs": [
        {
          "output_type": "execute_result",
          "data": {
            "text/plain": [
              "Intercept    1.406300e-35\n",
              "TV           1.467390e-42\n",
              "dtype: float64"
            ]
          },
          "metadata": {
            "tags": []
          },
          "execution_count": 22
        }
      ]
    },
    {
      "cell_type": "markdown",
      "metadata": {
        "id": "3a8fclvs6o45"
      },
      "source": [
        "the p-value for TV ads is way less than 0.05, and so we believe that there is a relationship\n",
        "between TV advertisements and Sales."
      ]
    },
    {
      "cell_type": "markdown",
      "metadata": {
        "id": "rKNHdS0f7BUt"
      },
      "source": [
        "## How Well Does the Model Fit the data?"
      ]
    },
    {
      "cell_type": "markdown",
      "metadata": {
        "id": "spQBDbVm7HCu"
      },
      "source": [
        "We will compute this by sing R-square. The value of R-squared lies between 0 and 1. A value closer to 1 is better as it means that more variance is\n",
        "explained by the model."
      ]
    },
    {
      "cell_type": "code",
      "metadata": {
        "colab": {
          "base_uri": "https://localhost:8080/"
        },
        "id": "F_oGDTuY7aNN",
        "outputId": "0226e9d5-844f-46ac-963e-2a4aa5218f49"
      },
      "source": [
        "lm.rsquared"
      ],
      "execution_count": 23,
      "outputs": [
        {
          "output_type": "execute_result",
          "data": {
            "text/plain": [
              "0.611875050850071"
            ]
          },
          "metadata": {
            "tags": []
          },
          "execution_count": 23
        }
      ]
    },
    {
      "cell_type": "markdown",
      "metadata": {
        "id": "US0kjUDUqeG5"
      },
      "source": [
        "*If we are going to check it on multiple dataset in case of multiple linear regression, it is as simple as having multiple predictors or features*"
      ]
    },
    {
      "cell_type": "markdown",
      "metadata": {
        "id": "tK9oPIgSqnl5"
      },
      "source": [
        "## Multiple Linear Regression"
      ]
    },
    {
      "cell_type": "code",
      "metadata": {
        "id": "cBdGsubdqNtF"
      },
      "source": [
        "feature_cols = ['TV', 'radio', 'newspaper']\n",
        "\n",
        "X = df[feature_cols]\n",
        "y = df.sales"
      ],
      "execution_count": 24,
      "outputs": []
    },
    {
      "cell_type": "code",
      "metadata": {
        "colab": {
          "base_uri": "https://localhost:8080/"
        },
        "id": "x-uPaqQYqvC0",
        "outputId": "add0c2e9-c77c-47a9-e923-046b82f6deaa"
      },
      "source": [
        "lm = LinearRegression()\n",
        "lm.fit(X,y)"
      ],
      "execution_count": 25,
      "outputs": [
        {
          "output_type": "execute_result",
          "data": {
            "text/plain": [
              "LinearRegression(copy_X=True, fit_intercept=True, n_jobs=None, normalize=False)"
            ]
          },
          "metadata": {
            "tags": []
          },
          "execution_count": 25
        }
      ]
    },
    {
      "cell_type": "code",
      "metadata": {
        "colab": {
          "base_uri": "https://localhost:8080/"
        },
        "id": "7XHurZoqq1wJ",
        "outputId": "f156d969-b532-4bba-adfa-67bbb473571f"
      },
      "source": [
        "print(lm.intercept_)\n",
        "print(lm.coef_)"
      ],
      "execution_count": 26,
      "outputs": [
        {
          "output_type": "stream",
          "text": [
            "2.938889369459412\n",
            "[ 0.04576465  0.18853002 -0.00103749]\n"
          ],
          "name": "stdout"
        }
      ]
    },
    {
      "cell_type": "markdown",
      "metadata": {
        "id": "CUtx6dhk7-wI"
      },
      "source": [
        "Since the coeeficient of the *newspaper* is negative, It means that the money spent for newspaper advertisements is not contributing in a positive way to\n",
        "the sales."
      ]
    },
    {
      "cell_type": "code",
      "metadata": {
        "colab": {
          "base_uri": "https://localhost:8080/",
          "height": 486
        },
        "id": "FO2AFQZzq6Ew",
        "outputId": "28c3789b-cdcf-4ad8-d00a-a74efc125386"
      },
      "source": [
        "lm = smf.ols(formula='sales ~ TV + radio + newspaper', data=df).fit()\n",
        "lm.conf_int()\n",
        "lm.summary()"
      ],
      "execution_count": 34,
      "outputs": [
        {
          "output_type": "execute_result",
          "data": {
            "text/html": [
              "<table class=\"simpletable\">\n",
              "<caption>OLS Regression Results</caption>\n",
              "<tr>\n",
              "  <th>Dep. Variable:</th>          <td>sales</td>      <th>  R-squared:         </th> <td>   0.897</td>\n",
              "</tr>\n",
              "<tr>\n",
              "  <th>Model:</th>                   <td>OLS</td>       <th>  Adj. R-squared:    </th> <td>   0.896</td>\n",
              "</tr>\n",
              "<tr>\n",
              "  <th>Method:</th>             <td>Least Squares</td>  <th>  F-statistic:       </th> <td>   570.3</td>\n",
              "</tr>\n",
              "<tr>\n",
              "  <th>Date:</th>             <td>Wed, 30 Jun 2021</td> <th>  Prob (F-statistic):</th> <td>1.58e-96</td>\n",
              "</tr>\n",
              "<tr>\n",
              "  <th>Time:</th>                 <td>10:18:33</td>     <th>  Log-Likelihood:    </th> <td> -386.18</td>\n",
              "</tr>\n",
              "<tr>\n",
              "  <th>No. Observations:</th>      <td>   200</td>      <th>  AIC:               </th> <td>   780.4</td>\n",
              "</tr>\n",
              "<tr>\n",
              "  <th>Df Residuals:</th>          <td>   196</td>      <th>  BIC:               </th> <td>   793.6</td>\n",
              "</tr>\n",
              "<tr>\n",
              "  <th>Df Model:</th>              <td>     3</td>      <th>                     </th>     <td> </td>   \n",
              "</tr>\n",
              "<tr>\n",
              "  <th>Covariance Type:</th>      <td>nonrobust</td>    <th>                     </th>     <td> </td>   \n",
              "</tr>\n",
              "</table>\n",
              "<table class=\"simpletable\">\n",
              "<tr>\n",
              "      <td></td>         <th>coef</th>     <th>std err</th>      <th>t</th>      <th>P>|t|</th>  <th>[0.025</th>    <th>0.975]</th>  \n",
              "</tr>\n",
              "<tr>\n",
              "  <th>Intercept</th> <td>    2.9389</td> <td>    0.312</td> <td>    9.422</td> <td> 0.000</td> <td>    2.324</td> <td>    3.554</td>\n",
              "</tr>\n",
              "<tr>\n",
              "  <th>TV</th>        <td>    0.0458</td> <td>    0.001</td> <td>   32.809</td> <td> 0.000</td> <td>    0.043</td> <td>    0.049</td>\n",
              "</tr>\n",
              "<tr>\n",
              "  <th>radio</th>     <td>    0.1885</td> <td>    0.009</td> <td>   21.893</td> <td> 0.000</td> <td>    0.172</td> <td>    0.206</td>\n",
              "</tr>\n",
              "<tr>\n",
              "  <th>newspaper</th> <td>   -0.0010</td> <td>    0.006</td> <td>   -0.177</td> <td> 0.860</td> <td>   -0.013</td> <td>    0.011</td>\n",
              "</tr>\n",
              "</table>\n",
              "<table class=\"simpletable\">\n",
              "<tr>\n",
              "  <th>Omnibus:</th>       <td>60.414</td> <th>  Durbin-Watson:     </th> <td>   2.084</td>\n",
              "</tr>\n",
              "<tr>\n",
              "  <th>Prob(Omnibus):</th> <td> 0.000</td> <th>  Jarque-Bera (JB):  </th> <td> 151.241</td>\n",
              "</tr>\n",
              "<tr>\n",
              "  <th>Skew:</th>          <td>-1.327</td> <th>  Prob(JB):          </th> <td>1.44e-33</td>\n",
              "</tr>\n",
              "<tr>\n",
              "  <th>Kurtosis:</th>      <td> 6.332</td> <th>  Cond. No.          </th> <td>    454.</td>\n",
              "</tr>\n",
              "</table><br/><br/>Warnings:<br/>[1] Standard Errors assume that the covariance matrix of the errors is correctly specified."
            ],
            "text/plain": [
              "<class 'statsmodels.iolib.summary.Summary'>\n",
              "\"\"\"\n",
              "                            OLS Regression Results                            \n",
              "==============================================================================\n",
              "Dep. Variable:                  sales   R-squared:                       0.897\n",
              "Model:                            OLS   Adj. R-squared:                  0.896\n",
              "Method:                 Least Squares   F-statistic:                     570.3\n",
              "Date:                Wed, 30 Jun 2021   Prob (F-statistic):           1.58e-96\n",
              "Time:                        10:18:33   Log-Likelihood:                -386.18\n",
              "No. Observations:                 200   AIC:                             780.4\n",
              "Df Residuals:                     196   BIC:                             793.6\n",
              "Df Model:                           3                                         \n",
              "Covariance Type:            nonrobust                                         \n",
              "==============================================================================\n",
              "                 coef    std err          t      P>|t|      [0.025      0.975]\n",
              "------------------------------------------------------------------------------\n",
              "Intercept      2.9389      0.312      9.422      0.000       2.324       3.554\n",
              "TV             0.0458      0.001     32.809      0.000       0.043       0.049\n",
              "radio          0.1885      0.009     21.893      0.000       0.172       0.206\n",
              "newspaper     -0.0010      0.006     -0.177      0.860      -0.013       0.011\n",
              "==============================================================================\n",
              "Omnibus:                       60.414   Durbin-Watson:                   2.084\n",
              "Prob(Omnibus):                  0.000   Jarque-Bera (JB):              151.241\n",
              "Skew:                          -1.327   Prob(JB):                     1.44e-33\n",
              "Kurtosis:                       6.332   Cond. No.                         454.\n",
              "==============================================================================\n",
              "\n",
              "Warnings:\n",
              "[1] Standard Errors assume that the covariance matrix of the errors is correctly specified.\n",
              "\"\"\""
            ]
          },
          "metadata": {
            "tags": []
          },
          "execution_count": 34
        }
      ]
    },
    {
      "cell_type": "markdown",
      "metadata": {
        "id": "KvYvsnvj9UrO"
      },
      "source": [
        "## Summary"
      ]
    },
    {
      "cell_type": "markdown",
      "metadata": {
        "id": "fib3C7u59StG"
      },
      "source": [
        "TV and Radio have positive p-values, whereas Newspaper has a negative one. Hence, we can reject the\n",
        "null hypothesis for TV and Radio that there is no relation between those features and Sales, but we fail to\n",
        "reject the null hypothesis for Newspaper that there is no relationship between newspaper spends and\n",
        "sales.\n",
        "\n",
        "The expenses on bot TV and Radio ads are positively associated with Sales, whereas the expense on\n",
        "newspaper ad is slightly negatively associated with the Sales.\n",
        "\n",
        "This model has a higher value of R-squared (0.897) than the previous model, which means that this model\n",
        "explains more variance and provides a better fit to the data than a model that only includes the TV."
      ]
    },
    {
      "cell_type": "markdown",
      "metadata": {
        "id": "TClfG4Mj9vui"
      },
      "source": [
        "## Feature Selection"
      ]
    },
    {
      "cell_type": "markdown",
      "metadata": {
        "id": "8c2crgAm95-7"
      },
      "source": [
        "R-squared increases with increase in features, therefore it is susceptible to model overfitting, and thus there is no guarantee that a model with a high R-\n",
        "squared value will generalise."
      ]
    },
    {
      "cell_type": "markdown",
      "metadata": {
        "id": "nrWAwoly-lsC"
      },
      "source": [
        "### only include TV and Radio in the model"
      ]
    },
    {
      "cell_type": "code",
      "metadata": {
        "colab": {
          "base_uri": "https://localhost:8080/"
        },
        "id": "4KPfHtud9jLN",
        "outputId": "40ea542b-9ecd-4e7c-a4d9-ab11833d2b4d"
      },
      "source": [
        "lm = smf.ols(formula='sales ~ TV + radio', data=df).fit()\n",
        "lm.rsquared"
      ],
      "execution_count": 30,
      "outputs": [
        {
          "output_type": "execute_result",
          "data": {
            "text/plain": [
              "0.8971942610828956"
            ]
          },
          "metadata": {
            "tags": []
          },
          "execution_count": 30
        }
      ]
    },
    {
      "cell_type": "markdown",
      "metadata": {
        "id": "TiPFt7WG-qtD"
      },
      "source": [
        "### add Newspaper to the model (which has no association with Sales)"
      ]
    },
    {
      "cell_type": "code",
      "metadata": {
        "colab": {
          "base_uri": "https://localhost:8080/"
        },
        "id": "hGf3qbEoudRo",
        "outputId": "aa0aebec-ecc5-4438-eb28-09b93d301fe9"
      },
      "source": [
        "lm = smf.ols(formula='sales ~ TV + radio + newspaper', data=df).fit()\n",
        "lm.rsquared"
      ],
      "execution_count": 31,
      "outputs": [
        {
          "output_type": "execute_result",
          "data": {
            "text/plain": [
              "0.8972106381789522"
            ]
          },
          "metadata": {
            "tags": []
          },
          "execution_count": 31
        }
      ]
    },
    {
      "cell_type": "markdown",
      "metadata": {
        "id": "tryTGukQuPME"
      },
      "source": [
        "## Final Note"
      ]
    },
    {
      "cell_type": "markdown",
      "metadata": {
        "id": "JYPNYTTmrkCh"
      },
      "source": [
        "Selecting the model with the highest value of R-squared is not a correct approach as the value of R-squared shall always increase whenever a new feature is taken for consideration even if the feature is unrelated to the response.\n",
        "\n",
        "The alternative is to use adjusted R-squared which penalises the model complexity (to control overfitting), but this again generally\n",
        "\n",
        "a better approach to feature selection is cross-validation. It provides a more reliable way to choose which of the created models will best generalise as it better estimates of out-of-sample error. An advantage is that the cross-validation method can be applied to any machine learning model and the scikit-learn package provides extensive functionality for that.\n",
        "\n"
      ]
    },
    {
      "cell_type": "code",
      "metadata": {
        "id": "DfMjsAf-rOgH"
      },
      "source": [
        ""
      ],
      "execution_count": 31,
      "outputs": []
    }
  ]
}